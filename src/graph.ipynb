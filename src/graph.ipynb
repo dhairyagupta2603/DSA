{
 "cells": [
  {
   "cell_type": "code",
   "execution_count": 7,
   "metadata": {},
   "outputs": [
    {
     "data": {
      "text/plain": [
       "[[0, 0, 0, 0], [0, 0, 0, 0], [0, 0, 0, 0], [0, 0, 0, 0], [0, 0, 0, 0]]"
      ]
     },
     "execution_count": 7,
     "metadata": {},
     "output_type": "execute_result"
    }
   ],
   "source": [
    "rows, cols = 5, 4\n",
    "[[0] * cols for _ in range(rows)]"
   ]
  },
  {
   "cell_type": "code",
   "execution_count": null,
   "metadata": {},
   "outputs": [],
   "source": [
    "# Graph"
   ]
  },
  {
   "cell_type": "markdown",
   "metadata": {},
   "source": [
    "### BFS"
   ]
  },
  {
   "cell_type": "code",
   "execution_count": 12,
   "metadata": {},
   "outputs": [
    {
     "name": "stdout",
     "output_type": "stream",
     "text": [
      "0 1 2 3 4 "
     ]
    }
   ],
   "source": [
    "from collections import deque\n",
    "\n",
    "def bfs(adj, s):\n",
    "    # get number of vertices\n",
    "    V = len(adj)\n",
    "    \n",
    "    # create an array to store the traversal\n",
    "    res = []\n",
    "    # Create a queue for BFS\n",
    "    q = deque()\n",
    "    \n",
    "    # Initially mark all the vertices as not visited\n",
    "    visited = [False] * V\n",
    "    \n",
    "    # Mark source node as visited and enqueue it\n",
    "    visited[s] = True\n",
    "    q.append(s)\n",
    "    \n",
    "    # Iterate over the queue\n",
    "    while q:\n",
    "        \n",
    "        # Dequeue a vertex from queue and store it\n",
    "        curr = q.popleft()\n",
    "        res.append(curr)\n",
    "        \n",
    "        # Get all adjacent vertices of the dequeued \n",
    "        # vertex curr If an adjacent has not been \n",
    "        # visited, mark it visited and enqueue it\n",
    "        for x in adj[curr]:\n",
    "            if not visited[x]:\n",
    "                visited[x] = True\n",
    "                q.append(x)\n",
    "                \n",
    "    return res\n",
    "\n",
    "if __name__ == \"__main__\":\n",
    "    \n",
    "    # create the adjacency list\n",
    "    # [ [2, 3, 1], [0], [0, 4], [0], [2] ]\n",
    "    adj = [[1,2], [0,2,3], [0,4], [1,4], [2,3]]\n",
    "    ans = bfs(adj, 0)\n",
    "    for i in ans:\n",
    "        print(i, end=\" \")"
   ]
  },
  {
   "cell_type": "markdown",
   "metadata": {},
   "source": [
    "### DFS"
   ]
  },
  {
   "cell_type": "code",
   "execution_count": 16,
   "metadata": {},
   "outputs": [
    {
     "name": "stdout",
     "output_type": "stream",
     "text": [
      "0 1 2 3 4\n"
     ]
    }
   ],
   "source": [
    "def dfsRec(adj, visited, s, res):\n",
    "    visited[s] = True\n",
    "    res.append(s)\n",
    "\n",
    "    # Recursively visit all adjacent vertices that are not visited yet\n",
    "    for i in range(len(adj)):\n",
    "        if adj[s][i] == 1 and not visited[i]:\n",
    "            dfsRec(adj, visited, i, res)\n",
    "\n",
    "\n",
    "def DFS(adj):\n",
    "    visited = [False] * len(adj)\n",
    "    res = []\n",
    "    dfsRec(adj, visited, 0, res)  # Start DFS from vertex 0\n",
    "    return res\n",
    "\n",
    "\n",
    "def add_edge(adj, s, t):\n",
    "    adj[s][t] = 1\n",
    "    adj[t][s] = 1  # Since it's an undirected graph\n",
    "\n",
    "\n",
    "# Driver code\n",
    "V = 5\n",
    "adj = [[0] * V for _ in range(V)]  # Adjacency matrix\n",
    "\n",
    "# Define the edges of the graph\n",
    "edges = [(1, 2), (1, 0), (2, 0), (2, 3), (2, 4)]\n",
    "\n",
    "# Populate the adjacency matrix with edges\n",
    "for s, t in edges:\n",
    "    add_edge(adj, s, t)\n",
    "\n",
    "res = DFS(adj)  # Perform DFS\n",
    "print(\" \".join(map(str, res)))"
   ]
  },
  {
   "cell_type": "code",
   "execution_count": null,
   "metadata": {},
   "outputs": [],
   "source": []
  }
 ],
 "metadata": {
  "kernelspec": {
   "display_name": ".venv",
   "language": "python",
   "name": "python3"
  },
  "language_info": {
   "codemirror_mode": {
    "name": "ipython",
    "version": 3
   },
   "file_extension": ".py",
   "mimetype": "text/x-python",
   "name": "python",
   "nbconvert_exporter": "python",
   "pygments_lexer": "ipython3",
   "version": "3.12.3"
  }
 },
 "nbformat": 4,
 "nbformat_minor": 2
}
